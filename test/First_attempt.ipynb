{
 "cells": [
  {
   "cell_type": "code",
   "execution_count": 3,
   "metadata": {
    "ExecuteTime": {
     "end_time": "2017-07-22T21:57:21.712423Z",
     "start_time": "2017-07-22T21:57:21.708315Z"
    }
   },
   "outputs": [],
   "source": [
    "import settings\n",
    "class Namespace(object):\n",
    "    def __init__(self, **kwargs):\n",
    "        self.__dict__.update(kwargs)\n",
    "    def __repr__(self):\n",
    "        return self.__dict__\n",
    "connection_settings = Namespace(\n",
    "    HOST=\"irc.twitch.tv\",\n",
    "    PORT=6667,\n",
    "    PASS=settings.PASS,\n",
    "    NICK=settings.NICKNAME,\n",
    "    STREAM = settings.CHANNEL\n",
    ")"
   ]
  },
  {
   "cell_type": "code",
   "execution_count": null,
   "metadata": {
    "collapsed": true
   },
   "outputs": [],
   "source": [
    ""
   ]
  },
  {
   "cell_type": "code",
   "execution_count": null,
   "metadata": {
    "ExecuteTime": {
     "end_time": "2017-07-18T21:06:08.628587Z",
     "start_time": "2017-07-18T21:06:08.589394Z"
    },
    "collapsed": true
   },
   "outputs": [],
   "source": [
    "from __future__ import print_function\n",
    "\n",
    "\n",
    "    \n",
    "connection_settings = Namespace(\n",
    "    HOST=\"irc.twitch.tv\",\n",
    "    PORT=6667,\n",
    "    PASS=settings.PASS,\n",
    "    NICK=settings.NICKNAME,\n",
    "    STREAM = settings.CHANNEL\n",
    ")\n",
    "import socket\n",
    "class TwitchBot(object):\n",
    "    def __init__(self, connect=True, debug_mode=False):\n",
    "        self.connection_settings = connection_settings\n",
    "        import datetime\n",
    "        self.session_start_datetime = datetime.datetime.now()\n",
    "        self._receive_cooldown = 1\n",
    "        self._receive_buff = ''\n",
    "        self._recv_size = 2**15\n",
    "        if connect: \n",
    "            self.connect()\n",
    "        \n",
    "    def connect(self):\n",
    "        HOST = self.connection_settings.HOST\n",
    "        PORT = self.connection_settings.PORT\n",
    "        PASS = self.connection_settings.PASS\n",
    "        NICK = self.connection_settings.NICK\n",
    "        STREAM = self.connection_settings.STREAM\n",
    "        \n",
    "        self.connection = socket.socket()\n",
    "        self.connection.connect((HOST, PORT))\n",
    "        self._send(\"PASS \" + PASS + \"\\r\\n\") # \n",
    "        self._send(\"NICK \" + NICK + \"\\r\\n\")\n",
    "        self._send(\"JOIN #\" + STREAM +'\\r\\n') # \n",
    "    \n",
    "    def _send(self, message):\n",
    "        if self.debug_mode:\n",
    "            print()\n",
    "        self.connection.send(message.encode())\n",
    "    \n",
    "    @property\n",
    "    def _receive_log_path(self):\n",
    "        return os.path.join(self.workdir, 'receive_logs_'+self.session_start+'.txt')\n",
    "    \n",
    "    def _log_received(self, message):\n",
    "        with open(self._receive_log_path, 'a') as f:\n",
    "            f.write(message)\n",
    "    \n",
    "    def _receive(self):\n",
    "        s = self.connection.recv(self._recv_size)\n",
    "        self._receive_buff += s\n",
    "#         self._log_received(s)\n",
    "        \n",
    "        \n",
    "    def send(self, message):\n",
    "        self._send(\"PRIVMSG #\" + self.connection_settings.STREAM + \" : \" + message)\n",
    "    \n",
    "    @property\n",
    "    def session_start(self):\n",
    "        return self.session_start_datetime.strftime('%Y_%m_%d__%H_%M_%S')\n",
    "    \n",
    "    @property\n",
    "    def workdir(self):\n",
    "        return os.path.join(self.path, self.session_start)\n",
    "#     \n",
    "# class Viewer(object):"
   ]
  },
  {
   "cell_type": "code",
   "execution_count": null,
   "metadata": {
    "ExecuteTime": {
     "end_time": "2017-07-16T20:48:15.786225Z",
     "start_time": "2017-07-16T20:48:15.783999Z"
    },
    "collapsed": true
   },
   "outputs": [],
   "source": [
    "# import datetime\n",
    "# x = datetime.datetime.now()"
   ]
  },
  {
   "cell_type": "code",
   "execution_count": null,
   "metadata": {
    "ExecuteTime": {
     "end_time": "2017-07-16T20:51:19.227490Z",
     "start_time": "2017-07-16T20:51:19.223903Z"
    }
   },
   "outputs": [],
   "source": [
    "# x.strftime('%Y_%m_%d__%H_%M_%S')"
   ]
  },
  {
   "cell_type": "code",
   "execution_count": null,
   "metadata": {
    "ExecuteTime": {
     "end_time": "2017-07-16T21:02:36.477285Z",
     "start_time": "2017-07-16T21:02:35.974488Z"
    },
    "collapsed": true
   },
   "outputs": [],
   "source": [
    "# import time\n",
    "# time.sleep(0.5)"
   ]
  },
  {
   "cell_type": "code",
   "execution_count": null,
   "metadata": {
    "ExecuteTime": {
     "end_time": "2017-07-18T21:06:27.930607Z",
     "start_time": "2017-07-18T21:06:27.723429Z"
    },
    "collapsed": true
   },
   "outputs": [],
   "source": [
    "bot = TwitchBot()"
   ]
  },
  {
   "cell_type": "code",
   "execution_count": null,
   "metadata": {
    "ExecuteTime": {
     "end_time": "2017-07-16T21:22:34.337799Z",
     "start_time": "2017-07-16T21:22:34.131352Z"
    },
    "collapsed": true
   },
   "outputs": [],
   "source": [
    "# bot.connect()"
   ]
  },
  {
   "cell_type": "code",
   "execution_count": null,
   "metadata": {
    "ExecuteTime": {
     "end_time": "2017-07-18T21:06:28.741461Z",
     "start_time": "2017-07-18T21:06:28.739332Z"
    },
    "collapsed": true
   },
   "outputs": [],
   "source": [
    "bot._receive()"
   ]
  },
  {
   "cell_type": "code",
   "execution_count": null,
   "metadata": {
    "ExecuteTime": {
     "end_time": "2017-07-18T21:06:33.038205Z",
     "start_time": "2017-07-18T21:06:33.034861Z"
    }
   },
   "outputs": [],
   "source": [
    "print bot._receive_buff"
   ]
  },
  {
   "cell_type": "code",
   "execution_count": null,
   "metadata": {
    "ExecuteTime": {
     "end_time": "2017-07-16T21:25:07.754551Z",
     "start_time": "2017-07-16T21:25:07.747018Z"
    }
   },
   "outputs": [],
   "source": [
    ""
   ]
  },
  {
   "cell_type": "code",
   "execution_count": null,
   "metadata": {
    "ExecuteTime": {
     "end_time": "2017-07-18T21:07:37.614268Z",
     "start_time": "2017-07-18T21:07:37.611245Z"
    },
    "collapsed": true
   },
   "outputs": [],
   "source": [
    "def send(self, message):\n",
    "    print \"PRIVMSG #\" + self.connection_settings.STREAM + \" :\" + message\n",
    "    self._send(\"PRIVMSG #\" + self.connection_settings.STREAM + \" :\" + message + \"\\r\\n\")"
   ]
  },
  {
   "cell_type": "code",
   "execution_count": null,
   "metadata": {
    "ExecuteTime": {
     "end_time": "2017-07-18T21:11:01.062052Z",
     "start_time": "2017-07-18T21:11:01.058832Z"
    }
   },
   "outputs": [],
   "source": [
    "send(bot, 'test3')"
   ]
  },
  {
   "cell_type": "code",
   "execution_count": null,
   "metadata": {
    "collapsed": true
   },
   "outputs": [],
   "source": [
    "bot.co"
   ]
  },
  {
   "cell_type": "markdown",
   "metadata": {},
   "source": []
  }
 ],
 "metadata": {
  "kernelspec": {
   "display_name": "Python 2",
   "language": "python",
   "name": "python2"
  },
  "language_info": {
   "codemirror_mode": {
    "name": "ipython",
    "version": 2.0
   },
   "file_extension": ".py",
   "mimetype": "text/x-python",
   "name": "python",
   "nbconvert_exporter": "python",
   "pygments_lexer": "ipython2",
   "version": "2.7.13"
  }
 },
 "nbformat": 4,
 "nbformat_minor": 0
}