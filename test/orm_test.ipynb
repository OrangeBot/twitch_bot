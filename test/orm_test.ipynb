{
 "cells": [
  {
   "cell_type": "code",
   "execution_count": 1,
   "metadata": {
    "ExecuteTime": {
     "end_time": "2017-07-22T21:57:02.106141Z",
     "start_time": "2017-07-22T21:57:01.971986Z"
    }
   },
   "outputs": [
    {
     "ename": "NameError",
     "evalue": "name 'Namespace' is not defined",
     "traceback": [
      "\u001b[0;31m---------------------------------------------------------------------------\u001b[0m",
      "\u001b[0;31mNameError\u001b[0m                                 Traceback (most recent call last)",
      "\u001b[0;32m<ipython-input-1-ba33e336e272>\u001b[0m in \u001b[0;36m<module>\u001b[0;34m()\u001b[0m\n\u001b[1;32m      1\u001b[0m \u001b[0;32mimport\u001b[0m \u001b[0msettings\u001b[0m\u001b[0;34m\u001b[0m\u001b[0m\n\u001b[0;32m----> 2\u001b[0;31m connection_settings = Namespace(\n\u001b[0m\u001b[1;32m      3\u001b[0m     \u001b[0mHOST\u001b[0m\u001b[0;34m=\u001b[0m\u001b[0;34m\"irc.twitch.tv\"\u001b[0m\u001b[0;34m,\u001b[0m\u001b[0;34m\u001b[0m\u001b[0m\n\u001b[1;32m      4\u001b[0m     \u001b[0mPORT\u001b[0m\u001b[0;34m=\u001b[0m\u001b[0;36m6667\u001b[0m\u001b[0;34m,\u001b[0m\u001b[0;34m\u001b[0m\u001b[0m\n\u001b[1;32m      5\u001b[0m     \u001b[0mPASS\u001b[0m\u001b[0;34m=\u001b[0m\u001b[0msettings\u001b[0m\u001b[0;34m.\u001b[0m\u001b[0mPASS\u001b[0m\u001b[0;34m,\u001b[0m\u001b[0;34m\u001b[0m\u001b[0m\n",
      "\u001b[0;31mNameError\u001b[0m: name 'Namespace' is not defined"
     ],
     "output_type": "error"
    }
   ],
   "source": [
    "import settings\n",
    "class Namespace(object):\n",
    "    def __init__(self, **kwargs):\n",
    "        self.__dict__.update(kwargs)\n",
    "    def __repr__(self):\n",
    "        return self.__dict__\n",
    "connection_settings = Namespace(\n",
    "    HOST=\"irc.twitch.tv\",\n",
    "    PORT=6667,\n",
    "    PASS=settings.PASS, # generate at https://twitchapps.com/tmi/\n",
    "    # the bot will connect as the user whose account is provided\n",
    "    NICK=settings.NICKNAME, \n",
    "    #your username - you connect as twitch user, \n",
    "    # so 1 twitch account - 1 bot. Bot nickname will be = username\n",
    "    #don't know if you can set other nickname or use 1 account for yourself and bot, for example\n",
    "    STREAM = settings.CHANNEL\n",
    "    # channel where to connect to\n",
    ")"
   ]
  },
  {
   "cell_type": "code",
   "execution_count": 3,
   "metadata": {
    "ExecuteTime": {
     "end_time": "2017-07-21T20:07:49.543732Z",
     "start_time": "2017-07-21T20:07:49.450511Z"
    },
    "collapsed": true
   },
   "outputs": [],
   "source": [
    "from pony import orm"
   ]
  },
  {
   "cell_type": "code",
   "execution_count": 6,
   "metadata": {
    "ExecuteTime": {
     "end_time": "2017-07-21T20:11:12.154507Z",
     "start_time": "2017-07-21T20:11:12.122671Z"
    }
   },
   "outputs": [
    {
     "ename": "ERDiagramError",
     "evalue": "Base Entity does not belong to any database",
     "traceback": [
      "\u001b[0;31m---------------------------------------------------------------------------\u001b[0m",
      "\u001b[0;31mERDiagramError\u001b[0m                            Traceback (most recent call last)",
      "\u001b[0;32m<ipython-input-6-227785916eef>\u001b[0m in \u001b[0;36m<module>\u001b[0;34m()\u001b[0m\n\u001b[0;32m----> 1\u001b[0;31m \u001b[0;32mclass\u001b[0m \u001b[0mData\u001b[0m\u001b[0;34m(\u001b[0m\u001b[0morm\u001b[0m\u001b[0;34m.\u001b[0m\u001b[0mcore\u001b[0m\u001b[0;34m.\u001b[0m\u001b[0mEntity\u001b[0m\u001b[0;34m)\u001b[0m\u001b[0;34m:\u001b[0m\u001b[0;34m\u001b[0m\u001b[0m\n\u001b[0m\u001b[1;32m      2\u001b[0m     \u001b[0;32mpass\u001b[0m\u001b[0;34m\u001b[0m\u001b[0m\n",
      "\u001b[0;32m/home/plavrov/anaconda3/envs/py2/lib/python2.7/site-packages/pony/orm/core.pyc\u001b[0m in \u001b[0;36m__init__\u001b[0;34m(entity, name, bases, cls_dict)\u001b[0m\n",
      "\u001b[0;32m/home/plavrov/anaconda3/envs/py2/lib/python2.7/site-packages/pony/utils/utils.pyc\u001b[0m in \u001b[0;36mcut_traceback\u001b[0;34m(func, *args, **kwargs)\u001b[0m\n\u001b[1;32m     73\u001b[0m             \u001b[0;32mif\u001b[0m \u001b[0mlast_pony_tb\u001b[0m \u001b[0;32mis\u001b[0m \u001b[0mNone\u001b[0m\u001b[0;34m:\u001b[0m \u001b[0;32mraise\u001b[0m\u001b[0;34m\u001b[0m\u001b[0m\n\u001b[1;32m     74\u001b[0m             \u001b[0;32mif\u001b[0m \u001b[0mtb\u001b[0m\u001b[0;34m.\u001b[0m\u001b[0mtb_frame\u001b[0m\u001b[0;34m.\u001b[0m\u001b[0mf_globals\u001b[0m\u001b[0;34m.\u001b[0m\u001b[0mget\u001b[0m\u001b[0;34m(\u001b[0m\u001b[0;34m'__name__'\u001b[0m\u001b[0;34m)\u001b[0m\u001b[0;34m.\u001b[0m\u001b[0mstartswith\u001b[0m\u001b[0;34m(\u001b[0m\u001b[0;34m'pony.utils'\u001b[0m\u001b[0;34m)\u001b[0m \u001b[0;32mand\u001b[0m \u001b[0mtb\u001b[0m\u001b[0;34m.\u001b[0m\u001b[0mtb_frame\u001b[0m\u001b[0;34m.\u001b[0m\u001b[0mf_code\u001b[0m\u001b[0;34m.\u001b[0m\u001b[0mco_name\u001b[0m \u001b[0;34m==\u001b[0m \u001b[0;34m'throw'\u001b[0m\u001b[0;34m:\u001b[0m\u001b[0;34m\u001b[0m\u001b[0m\n\u001b[0;32m---> 75\u001b[0;31m                 \u001b[0mreraise\u001b[0m\u001b[0;34m(\u001b[0m\u001b[0mexc_type\u001b[0m\u001b[0;34m,\u001b[0m \u001b[0mexc\u001b[0m\u001b[0;34m,\u001b[0m \u001b[0mlast_pony_tb\u001b[0m\u001b[0;34m)\u001b[0m\u001b[0;34m\u001b[0m\u001b[0m\n\u001b[0m\u001b[1;32m     76\u001b[0m             \u001b[0mreraise\u001b[0m\u001b[0;34m(\u001b[0m\u001b[0mexc_type\u001b[0m\u001b[0;34m,\u001b[0m \u001b[0mexc\u001b[0m\u001b[0;34m,\u001b[0m \u001b[0mfull_tb\u001b[0m\u001b[0;34m)\u001b[0m\u001b[0;34m\u001b[0m\u001b[0m\n\u001b[1;32m     77\u001b[0m         \u001b[0;32mfinally\u001b[0m\u001b[0;34m:\u001b[0m\u001b[0;34m\u001b[0m\u001b[0m\n",
      "\u001b[0;32m/home/plavrov/anaconda3/envs/py2/lib/python2.7/site-packages/pony/orm/core.pyc\u001b[0m in \u001b[0;36m__init__\u001b[0;34m(entity, name, bases, cls_dict)\u001b[0m\n\u001b[1;32m   3285\u001b[0m             \u001b[0;32mif\u001b[0m \u001b[0misinstance\u001b[0m\u001b[0;34m(\u001b[0m\u001b[0mbase_class\u001b[0m\u001b[0;34m,\u001b[0m \u001b[0mEntityMeta\u001b[0m\u001b[0;34m)\u001b[0m\u001b[0;34m:\u001b[0m\u001b[0;34m\u001b[0m\u001b[0m\n\u001b[1;32m   3286\u001b[0m                 \u001b[0mdatabase\u001b[0m \u001b[0;34m=\u001b[0m \u001b[0mbase_class\u001b[0m\u001b[0;34m.\u001b[0m\u001b[0m_database_\u001b[0m\u001b[0;34m\u001b[0m\u001b[0m\n\u001b[0;32m-> 3287\u001b[0;31m                 \u001b[0;32mif\u001b[0m \u001b[0mdatabase\u001b[0m \u001b[0;32mis\u001b[0m \u001b[0mNone\u001b[0m\u001b[0;34m:\u001b[0m \u001b[0mthrow\u001b[0m\u001b[0;34m(\u001b[0m\u001b[0mERDiagramError\u001b[0m\u001b[0;34m,\u001b[0m \u001b[0;34m'Base Entity does not belong to any database'\u001b[0m\u001b[0;34m)\u001b[0m\u001b[0;34m\u001b[0m\u001b[0m\n\u001b[0m\u001b[1;32m   3288\u001b[0m                 \u001b[0mdatabases\u001b[0m\u001b[0;34m.\u001b[0m\u001b[0madd\u001b[0m\u001b[0;34m(\u001b[0m\u001b[0mdatabase\u001b[0m\u001b[0;34m)\u001b[0m\u001b[0;34m\u001b[0m\u001b[0m\n\u001b[1;32m   3289\u001b[0m         \u001b[0;32mif\u001b[0m \u001b[0;32mnot\u001b[0m \u001b[0mdatabases\u001b[0m\u001b[0;34m:\u001b[0m \u001b[0;32massert\u001b[0m \u001b[0mFalse\u001b[0m  \u001b[0;31m# pragma: no cover\u001b[0m\u001b[0;34m\u001b[0m\u001b[0m\n",
      "\u001b[0;32m/home/plavrov/anaconda3/envs/py2/lib/python2.7/site-packages/pony/utils/utils.pyc\u001b[0m in \u001b[0;36mthrow\u001b[0;34m(exc_type, *args, **kwargs)\u001b[0m\n\u001b[1;32m     97\u001b[0m             \u001b[0;32mraise\u001b[0m \u001b[0mexc\u001b[0m\u001b[0;34m\u001b[0m\u001b[0m\n\u001b[1;32m     98\u001b[0m         \u001b[0;32melse\u001b[0m\u001b[0;34m:\u001b[0m\u001b[0;34m\u001b[0m\u001b[0m\n\u001b[0;32m---> 99\u001b[0;31m             \u001b[0;32mraise\u001b[0m \u001b[0mexc\u001b[0m  \u001b[0;31m# Set \"pony.options.CUT_TRACEBACK = False\" to see full traceback\u001b[0m\u001b[0;34m\u001b[0m\u001b[0m\n\u001b[0m\u001b[1;32m    100\u001b[0m     \u001b[0;32mfinally\u001b[0m\u001b[0;34m:\u001b[0m \u001b[0;32mdel\u001b[0m \u001b[0mexc\u001b[0m\u001b[0;34m\u001b[0m\u001b[0m\n\u001b[1;32m    101\u001b[0m \u001b[0;34m\u001b[0m\u001b[0m\n",
      "\u001b[0;31mERDiagramError\u001b[0m: Base Entity does not belong to any database"
     ],
     "output_type": "error"
    }
   ],
   "source": [
    "class Data(orm.core.Entity):\n",
    "    pass"
   ]
  },
  {
   "cell_type": "code",
   "execution_count": 2,
   "metadata": {
    "ExecuteTime": {
     "end_time": "2017-07-20T21:02:13.702437Z",
     "start_time": "2017-07-20T21:02:13.579327Z"
    }
   },
   "outputs": [
    {
     "ename": "NameError",
     "evalue": "name 'fixPath' is not defined",
     "traceback": [
      "\u001b[0;31m---------------------------------------------------------------------------\u001b[0m",
      "\u001b[0;31mNameError\u001b[0m                                 Traceback (most recent call last)",
      "\u001b[0;32m<ipython-input-2-07f801a76d6a>\u001b[0m in \u001b[0;36m<module>\u001b[0;34m()\u001b[0m\n\u001b[0;32m----> 1\u001b[0;31m \u001b[0mfixPath\u001b[0m\u001b[0;34m(\u001b[0m\u001b[0;34m'./~/test'\u001b[0m\u001b[0;34m)\u001b[0m\u001b[0;34m\u001b[0m\u001b[0m\n\u001b[0m",
      "\u001b[0;31mNameError\u001b[0m: name 'fixPath' is not defined"
     ],
     "output_type": "error"
    }
   ],
   "source": [
    "fixPath('./~/test')"
   ]
  },
  {
   "cell_type": "code",
   "execution_count": 8,
   "metadata": {
    "ExecuteTime": {
     "end_time": "2017-07-20T21:20:21.055711Z",
     "start_time": "2017-07-20T21:20:21.042410Z"
    },
    "scrolled": true
   },
   "outputs": [
    {
     "name": "stdout",
     "output_type": "stream",
     "text": [
      "GET NEW CONNECTION\n",
      "RELEASE CONNECTION\n"
     ]
    }
   ],
   "source": [
    "import datetime\n",
    "import pony.orm as pny\n",
    "\n",
    "def fixPath(path):\n",
    "    import os\n",
    "    return os.path.abspath(os.path.expanduser(path))\n",
    "\n",
    "    \n",
    "database = pny.Database(\"sqlite\", fixPath(\"./test.sqlite\"), create_db=True)\n",
    " \n",
    "########################################################################\n",
    "class Artist(database.Entity):\n",
    "    \"\"\"\n",
    "    Pony ORM model of the Artist table\n",
    "    \"\"\"\n",
    "    name = pny.Required(unicode)\n",
    "    albums = pny.Set(\"Album\")\n",
    "    \n",
    "    def __str__(self):\n",
    "        return self.name\n",
    " \n",
    "#######################################################################\n",
    "class Album(database.Entity):\n",
    "    \"\"\"\n",
    "    Pony ORM model of album table\n",
    "    \"\"\"\n",
    "    artist = pny.Required(Artist)\n",
    "    title = pny.Required(unicode)\n",
    "    release_date = pny.Required(datetime.date)\n",
    "    publisher = pny.Required(unicode)\n",
    "    media_type = pny.Required(unicode)\n",
    "    \n",
    "    \n",
    " \n",
    "# turn on debug mode\n",
    "pny.sql_debug(True)\n",
    " \n",
    "# map the models to the database \n",
    "# and create the tables, if they don't exist"
   ]
  },
  {
   "cell_type": "code",
   "execution_count": 9,
   "metadata": {
    "ExecuteTime": {
     "end_time": "2017-07-20T21:20:21.311414Z",
     "start_time": "2017-07-20T21:20:21.306545Z"
    },
    "collapsed": true
   },
   "outputs": [],
   "source": [
    "class A(database.Entity):\n",
    "    \"\"\"\n",
    "    Pony ORM model of album table\n",
    "    \"\"\"\n",
    "    name = pny.Required(str)\n",
    "    \n",
    "\n",
    "class B(A):\n",
    "    \"\"\"\n",
    "    Pony ORM model of album table\n",
    "    \"\"\"\n",
    "    name2 = pny.Required(str)\n",
    "    \n",
    "\n",
    "class C(A):\n",
    "    \"\"\"\n",
    "    Pony ORM model of album table\n",
    "    \"\"\"\n",
    "    name3 = pny.Required(str)"
   ]
  },
  {
   "cell_type": "code",
   "execution_count": 10,
   "metadata": {
    "ExecuteTime": {
     "end_time": "2017-07-20T21:20:22.562474Z",
     "start_time": "2017-07-20T21:20:22.553511Z"
    }
   },
   "outputs": [
    {
     "name": "stdout",
     "output_type": "stream",
     "text": [
      "GET CONNECTION FROM THE LOCAL POOL\n",
      "PRAGMA foreign_keys = false\n",
      "BEGIN IMMEDIATE TRANSACTION\n",
      "CREATE TABLE \"A\" (\n",
      "  \"id\" INTEGER PRIMARY KEY AUTOINCREMENT,\n",
      "  \"name\" TEXT NOT NULL,\n",
      "  \"classtype\" TEXT NOT NULL,\n",
      "  \"name2\" TEXT,\n",
      "  \"name3\" TEXT\n",
      ")\n",
      "\n",
      "SELECT \"A\".\"id\", \"A\".\"name\", \"A\".\"classtype\", \"A\".\"name2\", \"A\".\"name3\"\n",
      "FROM \"A\" \"A\"\n",
      "WHERE 0 = 1\n",
      "\n",
      "SELECT \"Album\".\"id\", \"Album\".\"artist\", \"Album\".\"title\", \"Album\".\"release_date\", \"Album\".\"publisher\", \"Album\".\"media_type\"\n",
      "FROM \"Album\" \"Album\"\n",
      "WHERE 0 = 1\n",
      "\n",
      "SELECT \"Artist\".\"id\", \"Artist\".\"name\"\n",
      "FROM \"Artist\" \"Artist\"\n",
      "WHERE 0 = 1\n",
      "\n",
      "COMMIT\n",
      "PRAGMA foreign_keys = true\n",
      "CLOSE CONNECTION\n"
     ]
    }
   ],
   "source": [
    "database.generate_mapping(create_tables=True)"
   ]
  },
  {
   "cell_type": "code",
   "execution_count": 13,
   "metadata": {
    "ExecuteTime": {
     "end_time": "2017-07-20T21:21:05.357319Z",
     "start_time": "2017-07-20T21:21:05.354502Z"
    },
    "collapsed": true
   },
   "outputs": [],
   "source": [
    "a1 = A(name='a')\n",
    "a2 = B(name='x',name2='y')\n",
    "a3 = C(name='z',name3='s')"
   ]
  },
  {
   "cell_type": "code",
   "execution_count": 15,
   "metadata": {
    "ExecuteTime": {
     "end_time": "2017-07-20T21:21:20.281680Z",
     "start_time": "2017-07-20T21:21:20.274085Z"
    }
   },
   "outputs": [
    {
     "name": "stdout",
     "output_type": "stream",
     "text": [
      "GET NEW CONNECTION\n",
      "BEGIN IMMEDIATE TRANSACTION\n",
      "INSERT INTO \"A\" (\"name\", \"classtype\") VALUES (?, ?)\n",
      "[u'a', 'A']\n",
      "\n",
      "INSERT INTO \"A\" (\"name\", \"classtype\") VALUES (?, ?)\n",
      "[u'a', 'A']\n",
      "\n",
      "INSERT INTO \"A\" (\"name\", \"classtype\", \"name2\") VALUES (?, ?, ?)\n",
      "[u'x', 'B', u'y']\n",
      "\n",
      "INSERT INTO \"A\" (\"name\", \"classtype\", \"name3\") VALUES (?, ?, ?)\n",
      "[u'z', 'C', u's']\n",
      "\n",
      "COMMIT\n"
     ]
    }
   ],
   "source": [
    "orm.commit()"
   ]
  },
  {
   "cell_type": "code",
   "execution_count": 17,
   "metadata": {
    "ExecuteTime": {
     "end_time": "2017-07-20T21:21:49.148803Z",
     "start_time": "2017-07-20T21:21:49.146257Z"
    },
    "collapsed": true
   },
   "outputs": [],
   "source": [
    "q = orm.select(a for a in A)"
   ]
  },
  {
   "cell_type": "code",
   "execution_count": 19,
   "metadata": {
    "ExecuteTime": {
     "end_time": "2017-07-20T21:23:09.174588Z",
     "start_time": "2017-07-20T21:23:09.169502Z"
    }
   },
   "outputs": [
    {
     "name": "stdout",
     "output_type": "stream",
     "text": [
      "BEGIN IMMEDIATE TRANSACTION\n",
      "SELECT \"a\".\"id\", \"a\".\"name\", \"a\".\"classtype\", \"a\".\"name2\", \"a\".\"name3\"\n",
      "FROM \"A\" \"a\"\n",
      "WHERE \"a\".\"classtype\" IN ('B', 'C', 'A')\n",
      "\n",
      "id|name|classtype\n",
      "--+----+---------\n",
      "1 |a   |A        \n",
      "2 |a   |A        \n",
      "3 |x   |B        \n",
      "4 |z   |C        \n"
     ]
    }
   ],
   "source": [
    "q.show()"
   ]
  },
  {
   "cell_type": "code",
   "execution_count": 20,
   "metadata": {
    "ExecuteTime": {
     "end_time": "2017-07-20T21:29:32.844055Z",
     "start_time": "2017-07-20T21:29:32.840932Z"
    }
   },
   "outputs": [
    {
     "data": {
      "text/plain": [
       "__main__.A"
      ]
     },
     "execution_count": 20,
     "metadata": {},
     "output_type": "execute_result"
    }
   ],
   "source": [
    "database."
   ]
  },
  {
   "cell_type": "code",
   "execution_count": 46,
   "metadata": {
    "ExecuteTime": {
     "end_time": "2017-07-19T20:55:07.845489Z",
     "start_time": "2017-07-19T20:55:07.842755Z"
    },
    "collapsed": true
   },
   "outputs": [],
   "source": [
    "art = Artist(name='test', albums={})"
   ]
  },
  {
   "cell_type": "code",
   "execution_count": 47,
   "metadata": {
    "ExecuteTime": {
     "end_time": "2017-07-19T20:55:08.118688Z",
     "start_time": "2017-07-19T20:55:08.115661Z"
    },
    "collapsed": true
   },
   "outputs": [],
   "source": [
    "alb = Album( artist = art,\n",
    "    title = 'test1',\n",
    "    release_date = datetime.datetime.now(),\n",
    "    publisher = 'test2',\n",
    "    media_type = 'test3')"
   ]
  },
  {
   "cell_type": "code",
   "execution_count": 48,
   "metadata": {
    "ExecuteTime": {
     "end_time": "2017-07-19T20:55:08.671213Z",
     "start_time": "2017-07-19T20:55:08.667485Z"
    }
   },
   "outputs": [
    {
     "data": {
      "text/plain": [
       "{'Album': __main__.Album, 'Artist': __main__.Artist}"
      ]
     },
     "execution_count": 48,
     "metadata": {},
     "output_type": "execute_result"
    }
   ],
   "source": [
    "database.entities"
   ]
  },
  {
   "cell_type": "code",
   "execution_count": 49,
   "metadata": {
    "ExecuteTime": {
     "end_time": "2017-07-19T20:55:08.991453Z",
     "start_time": "2017-07-19T20:55:08.987629Z"
    }
   },
   "outputs": [
    {
     "name": "stdout",
     "output_type": "stream",
     "text": [
      "GET NEW CONNECTION\n",
      "RELEASE CONNECTION\n"
     ]
    }
   ],
   "source": [
    "database = pny.Database(\"sqlite\", fixPath(\"./test.sqlite\"), create_db=True)"
   ]
  },
  {
   "cell_type": "code",
   "execution_count": 50,
   "metadata": {
    "ExecuteTime": {
     "end_time": "2017-07-19T20:55:09.270136Z",
     "start_time": "2017-07-19T20:55:09.267214Z"
    }
   },
   "outputs": [
    {
     "data": {
      "text/plain": [
       "Album[new:13]"
      ]
     },
     "execution_count": 50,
     "metadata": {},
     "output_type": "execute_result"
    }
   ],
   "source": [
    "alb"
   ]
  },
  {
   "cell_type": "code",
   "execution_count": 51,
   "metadata": {
    "ExecuteTime": {
     "end_time": "2017-07-19T20:55:09.526494Z",
     "start_time": "2017-07-19T20:55:09.523639Z"
    }
   },
   "outputs": [
    {
     "data": {
      "text/plain": [
       "Artist[new:12]"
      ]
     },
     "execution_count": 51,
     "metadata": {},
     "output_type": "execute_result"
    }
   ],
   "source": [
    "art"
   ]
  },
  {
   "cell_type": "code",
   "execution_count": 52,
   "metadata": {
    "ExecuteTime": {
     "end_time": "2017-07-19T20:55:09.774144Z",
     "start_time": "2017-07-19T20:55:09.771905Z"
    },
    "collapsed": true
   },
   "outputs": [],
   "source": [
    "# import datetime\n",
    "# import pony.orm as pny\n",
    " \n",
    "# from models import Album, Artist"
   ]
  },
  {
   "cell_type": "code",
   "execution_count": null,
   "metadata": {
    "collapsed": true
   },
   "outputs": [],
   "source": [
    ""
   ]
  },
  {
   "cell_type": "code",
   "execution_count": 53,
   "metadata": {
    "ExecuteTime": {
     "end_time": "2017-07-19T20:55:10.491792Z",
     "start_time": "2017-07-19T20:55:10.467943Z"
    }
   },
   "outputs": [
    {
     "name": "stdout",
     "output_type": "stream",
     "text": [
      "GET NEW CONNECTION\n",
      "BEGIN IMMEDIATE TRANSACTION\n",
      "INSERT INTO \"Artist\" (\"name\") VALUES (?)\n",
      "[u'test']\n",
      "\n",
      "INSERT INTO \"Album\" (\"artist\", \"title\", \"release_date\", \"publisher\", \"media_type\") VALUES (?, ?, ?, ?, ?)\n",
      "[7, u'test1', '2017-07-19', u'test2', u'test3']\n",
      "\n",
      "INSERT INTO \"Artist\" (\"name\") VALUES (?)\n",
      "[u'Newsboys']\n",
      "\n",
      "INSERT INTO \"Artist\" (\"name\") VALUES (?)\n",
      "[u'MXPX']\n",
      "\n",
      "INSERT INTO \"Artist\" (\"name\") VALUES (?)\n",
      "[u'Kutless']\n",
      "\n",
      "INSERT INTO \"Artist\" (\"name\") VALUES (?)\n",
      "[u'Thousand Foot Krutch']\n",
      "\n",
      "INSERT INTO \"Album\" (\"artist\", \"title\", \"release_date\", \"publisher\", \"media_type\") VALUES (?, ?, ?, ?, ?)\n",
      "[8, u'Read All About It', '1988-12-01', u'Refuge', u'CD']\n",
      "\n",
      "INSERT INTO \"Album\" (\"artist\", \"title\", \"release_date\", \"publisher\", \"media_type\") VALUES (?, ?, ?, ?, ?)\n",
      "[8, u'Hell is for Wimps', '1990-07-31', u'Sparrow', u'CD']\n",
      "\n",
      "INSERT INTO \"Album\" (\"artist\", \"title\", \"release_date\", \"publisher\", \"media_type\") VALUES (?, ?, ?, ?, ?)\n",
      "[8, u'Love Liberty Disco', '1999-11-16', u'Sparrow', u'CD']\n",
      "\n",
      "INSERT INTO \"Album\" (\"artist\", \"title\", \"release_date\", \"publisher\", \"media_type\") VALUES (?, ?, ?, ?, ?)\n",
      "[8, u'Thrive', '2002-03-26', u'Sparrow', u'CD']\n",
      "\n",
      "COMMIT\n",
      "RELEASE CONNECTION\n",
      "GET CONNECTION FROM THE LOCAL POOL\n",
      "BEGIN IMMEDIATE TRANSACTION\n",
      "INSERT INTO \"Artist\" (\"name\") VALUES (?)\n",
      "[u'Skillet']\n",
      "\n",
      "COMMIT\n",
      "RELEASE CONNECTION\n"
     ]
    }
   ],
   "source": [
    "#----------------------------------------------------------------------\n",
    "@pny.db_session\n",
    "def add_data():\n",
    "    \"\"\"\"\"\"\n",
    " \n",
    "    new_artist = Artist(name=u\"Newsboys\")\n",
    "    bands = [u\"MXPX\", u\"Kutless\", u\"Thousand Foot Krutch\"]\n",
    "    for band in bands:\n",
    "        artist = Artist(name=band)\n",
    " \n",
    "    album = Album(artist=new_artist,\n",
    "                  title=u\"Read All About It\",\n",
    "                  release_date=datetime.date(1988,12,01),\n",
    "                  publisher=u\"Refuge\",\n",
    "                  media_type=u\"CD\")\n",
    " \n",
    "    albums = [{\"artist\": new_artist,\n",
    "               \"title\": \"Hell is for Wimps\",\n",
    "               \"release_date\": datetime.date(1990,07,31),\n",
    "               \"publisher\": \"Sparrow\",\n",
    "               \"media_type\": \"CD\"\n",
    "               },\n",
    "              {\"artist\": new_artist,\n",
    "               \"title\": \"Love Liberty Disco\", \n",
    "               \"release_date\": datetime.date(1999,11,16),\n",
    "               \"publisher\": \"Sparrow\",\n",
    "               \"media_type\": \"CD\"\n",
    "              },\n",
    "              {\"artist\": new_artist,\n",
    "               \"title\": \"Thrive\",\n",
    "               \"release_date\": datetime.date(2002,03,26),\n",
    "               \"publisher\": \"Sparrow\",\n",
    "               \"media_type\": \"CD\"}\n",
    "              ]\n",
    " \n",
    "    for album in albums:\n",
    "        a = Album(**album)\n",
    " \n",
    "# if __name__ == \"__main__\":\n",
    "add_data()\n",
    "\n",
    "# use db_session as a context manager\n",
    "with pny.db_session:\n",
    "    a = Artist(name=\"Skillet\")"
   ]
  },
  {
   "cell_type": "code",
   "execution_count": 54,
   "metadata": {
    "ExecuteTime": {
     "end_time": "2017-07-19T20:55:10.935644Z",
     "start_time": "2017-07-19T20:55:10.931856Z"
    }
   },
   "outputs": [
    {
     "data": {
      "text/plain": [
       "{}"
      ]
     },
     "execution_count": 54,
     "metadata": {},
     "output_type": "execute_result"
    }
   ],
   "source": [
    "database.entities"
   ]
  },
  {
   "cell_type": "code",
   "execution_count": null,
   "metadata": {
    "ExecuteTime": {
     "end_time": "2017-07-19T20:45:44.475421Z",
     "start_time": "2017-07-19T20:45:44.445323Z"
    },
    "collapsed": true
   },
   "outputs": [],
   "source": [
    ""
   ]
  },
  {
   "cell_type": "code",
   "execution_count": 55,
   "metadata": {
    "ExecuteTime": {
     "end_time": "2017-07-19T20:55:12.455786Z",
     "start_time": "2017-07-19T20:55:12.451760Z"
    }
   },
   "outputs": [
    {
     "name": "stdout",
     "output_type": "stream",
     "text": [
      "GET CONNECTION FROM THE LOCAL POOL\n",
      "PRAGMA foreign_keys = false\n",
      "BEGIN IMMEDIATE TRANSACTION\n",
      "COMMIT\n",
      "PRAGMA foreign_keys = true\n",
      "CLOSE CONNECTION\n"
     ]
    }
   ],
   "source": [
    "database.generate_mapping(create_tables=True)"
   ]
  },
  {
   "cell_type": "code",
   "execution_count": 56,
   "metadata": {
    "ExecuteTime": {
     "end_time": "2017-07-19T20:55:13.182934Z",
     "start_time": "2017-07-19T20:55:13.179696Z"
    }
   },
   "outputs": [
    {
     "data": {
      "text/plain": [
       "{}"
      ]
     },
     "execution_count": 56,
     "metadata": {},
     "output_type": "execute_result"
    }
   ],
   "source": [
    "database.entities"
   ]
  },
  {
   "cell_type": "code",
   "execution_count": 57,
   "metadata": {
    "ExecuteTime": {
     "end_time": "2017-07-19T20:55:13.671333Z",
     "start_time": "2017-07-19T20:55:13.667751Z"
    }
   },
   "outputs": [
    {
     "name": "stdout",
     "output_type": "stream",
     "text": [
      "GET NEW CONNECTION\n",
      "SWITCH TO AUTOCOMMIT MODE\n",
      "RELEASE CONNECTION\n"
     ]
    }
   ],
   "source": [
    "database.check_tables()"
   ]
  },
  {
   "cell_type": "code",
   "execution_count": 58,
   "metadata": {
    "ExecuteTime": {
     "end_time": "2017-07-19T20:55:14.197497Z",
     "start_time": "2017-07-19T20:55:14.194126Z"
    }
   },
   "outputs": [
    {
     "data": {
      "text/plain": [
       "{}"
      ]
     },
     "execution_count": 58,
     "metadata": {},
     "output_type": "execute_result"
    }
   ],
   "source": [
    "database.schema.tables"
   ]
  },
  {
   "cell_type": "code",
   "execution_count": 59,
   "metadata": {
    "ExecuteTime": {
     "end_time": "2017-07-19T20:55:19.406972Z",
     "start_time": "2017-07-19T20:55:19.403246Z"
    },
    "collapsed": true,
    "scrolled": true
   },
   "outputs": [],
   "source": [
    "with pny.db_session:\n",
    "#     band = Artist.get(name=\"Newsboys\")\n",
    "#     print band.name\n",
    " \n",
    "#     for record in band.albums:\n",
    "#         print record.title\n",
    " \n",
    "#     # update a record\n",
    "#     band_name = Artist.get(name=\"Kutless\")\n",
    "#     band_name.name = \"Beach Boys\"\n",
    "#     band = orm.select(Artist.get()\n",
    "    albums = orm.select(c for c in Album)\n",
    "    artists = orm.select(c for c in Artist)"
   ]
  },
  {
   "cell_type": "code",
   "execution_count": 61,
   "metadata": {
    "ExecuteTime": {
     "end_time": "2017-07-19T20:55:25.072212Z",
     "start_time": "2017-07-19T20:55:25.067885Z"
    }
   },
   "outputs": [
    {
     "name": "stdout",
     "output_type": "stream",
     "text": [
      "test\n",
      "Newsboys\n",
      "Newsboys\n",
      "Newsboys\n",
      "Newsboys\n",
      "test\n",
      "Newsboys\n",
      "Newsboys\n",
      "Newsboys\n",
      "Newsboys\n"
     ]
    }
   ],
   "source": [
    "for a in albums:\n",
    "    print a.artist"
   ]
  },
  {
   "cell_type": "code",
   "execution_count": null,
   "metadata": {
    "collapsed": true
   },
   "outputs": [],
   "source": [
    "orm.db_session"
   ]
  }
 ],
 "metadata": {
  "kernelspec": {
   "display_name": "Python 2",
   "language": "python",
   "name": "python2"
  },
  "language_info": {
   "codemirror_mode": {
    "name": "ipython",
    "version": 2.0
   },
   "file_extension": ".py",
   "mimetype": "text/x-python",
   "name": "python",
   "nbconvert_exporter": "python",
   "pygments_lexer": "ipython2",
   "version": "2.7.13"
  }
 },
 "nbformat": 4,
 "nbformat_minor": 0
}