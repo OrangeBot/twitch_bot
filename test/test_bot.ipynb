{
 "cells": [
  {
   "cell_type": "code",
   "execution_count": 1,
   "metadata": {},
   "outputs": [
    {
     "name": "stdout",
     "output_type": "stream",
     "text": [
      "Untitled.ipynb*\r\n"
     ]
    }
   ],
   "source": [
    "import settings\n",
    "class Namespace(object):\n",
    "    def __init__(self, **kwargs):\n",
    "        self.__dict__.update(kwargs)\n",
    "    def __repr__(self):\n",
    "        return self.__dict__\n",
    "connection_settings = Namespace(\n",
    "    HOST=\"irc.twitch.tv\",\n",
    "    PORT=6667,\n",
    "    PASS=settings.PASS, # generate at https://twitchapps.com/tmi/\n",
    "    # the bot will connect as the user whose account is provided\n",
    "    NICK=settings.NICKNAME, \n",
    "    #your username - you connect as twitch user, \n",
    "    # so 1 twitch account - 1 bot. Bot nickname will be = username\n",
    "    #don't know if you can set other nickname or use 1 account for yourself and bot, for example\n",
    "    STREAM = settings.CHANNEL\n",
    "    # channel where to connect to\n",
    ")"
   ]
  },
  {
   "cell_type": "code",
   "execution_count": 2,
   "metadata": {},
   "outputs": [
    {
     "name": "stdout",
     "output_type": "stream",
     "text": [
      "\u001b[0m\u001b[38;5;74m__init__.py\u001b[0m*  README.md*  \u001b[38;5;74msetup.py\u001b[0m*  \u001b[38;5;227mtest\u001b[0m/  \u001b[38;5;227mtwitch_bot\u001b[0m/\r\n"
     ]
    }
   ],
   "source": [
    "ls .."
   ]
  },
  {
   "cell_type": "code",
   "execution_count": null,
   "metadata": {
    "collapsed": true
   },
   "outputs": [],
   "source": [
    ""
   ]
  }
 ],
 "metadata": {
  "kernelspec": {
   "display_name": "Python 2",
   "language": "python",
   "name": "python2"
  },
  "language_info": {
   "codemirror_mode": {
    "name": "ipython",
    "version": 2.0
   },
   "file_extension": ".py",
   "mimetype": "text/x-python",
   "name": "python",
   "nbconvert_exporter": "python",
   "pygments_lexer": "ipython2",
   "version": "2.7.13"
  }
 },
 "nbformat": 4,
 "nbformat_minor": 0
}