{
 "cells": [
  {
   "cell_type": "code",
   "execution_count": null,
   "metadata": {
    "collapsed": true
   },
   "outputs": [],
   "source": [
    "import settings\n",
    "class Namespace(object):\n",
    "    def __init__(self, **kwargs):\n",
    "        self.__dict__.update(kwargs)\n",
    "    def __repr__(self):\n",
    "        return self.__dict__\n",
    "connection_settings = Namespace(\n",
    "    HOST=\"irc.twitch.tv\",\n",
    "    PORT=6667,\n",
    "    PASS=settings.PASS, # generate at https://twitchapps.com/tmi/\n",
    "    # the bot will connect as the user whose account is provided\n",
    "    NICK=settings.NICKNAME, \n",
    "    #your username - you connect as twitch user, \n",
    "    # so 1 twitch account - 1 bot. Bot nickname will be = username\n",
    "    #don't know if you can set other nickname or use 1 account for yourself and bot, for example\n",
    "    STREAM = settings.CHANNEL\n",
    "    # channel where to connect to\n",
    ")"
   ]
  },
  {
   "cell_type": "code",
   "execution_count": null,
   "metadata": {
    "ExecuteTime": {
     "end_time": "2017-07-15T22:16:15.506703Z",
     "start_time": "2017-07-15T22:16:15.504275Z"
    },
    "collapsed": true
   },
   "outputs": [],
   "source": [
    "import socket, string\n",
    "import os, glob, sys, shutil\n",
    "import time"
   ]
  },
  {
   "cell_type": "code",
   "execution_count": null,
   "metadata": {
    "ExecuteTime": {
     "end_time": "2017-07-15T22:16:17.714867Z",
     "start_time": "2017-07-15T22:16:17.711928Z"
    },
    "collapsed": true
   },
   "outputs": [],
   "source": [
    ""
   ]
  },
  {
   "cell_type": "code",
   "execution_count": null,
   "metadata": {
    "ExecuteTime": {
     "end_time": "2017-07-15T22:16:19.050960Z",
     "start_time": "2017-07-15T22:16:18.807130Z"
    },
    "collapsed": true
   },
   "outputs": [],
   "source": [
    "s = socket.socket()\n",
    "s.connect((connection_settings.HOST, connection_settings.PORT))"
   ]
  },
  {
   "cell_type": "code",
   "execution_count": null,
   "metadata": {
    "ExecuteTime": {
     "end_time": "2017-07-15T22:16:19.358337Z",
     "start_time": "2017-07-15T22:16:19.352383Z"
    },
    "collapsed": true
   },
   "outputs": [],
   "source": [
    "s.send(\"PASS \" + connection_settings.PASS + \"\\r\\n\") # \n",
    "s.send(\"NICK \" + connection_settings.NICK + \"\\r\\n\")"
   ]
  },
  {
   "cell_type": "code",
   "execution_count": null,
   "metadata": {
    "ExecuteTime": {
     "end_time": "2017-07-15T22:19:52.411378Z",
     "start_time": "2017-07-15T22:19:52.407592Z"
    },
    "collapsed": true
   },
   "outputs": [],
   "source": [
    "s.send(\"JOIN #\" + connection_settings.STREAM +'\\r\\n') #"
   ]
  },
  {
   "cell_type": "code",
   "execution_count": null,
   "metadata": {
    "ExecuteTime": {
     "end_time": "2017-07-15T22:16:13.259256Z",
     "start_time": "2017-07-15T22:16:13.256465Z"
    },
    "collapsed": true
   },
   "outputs": [],
   "source": [
    "s.close()"
   ]
  },
  {
   "cell_type": "code",
   "execution_count": null,
   "metadata": {
    "ExecuteTime": {
     "end_time": "2017-07-15T22:24:57.147273Z",
     "start_time": "2017-07-15T22:24:57.143425Z"
    },
    "collapsed": true
   },
   "outputs": [],
   "source": [
    "s.send('test')"
   ]
  },
  {
   "cell_type": "code",
   "execution_count": null,
   "metadata": {
    "collapsed": true
   },
   "outputs": [],
   "source": [
    ""
   ]
  },
  {
   "cell_type": "code",
   "execution_count": null,
   "metadata": {
    "ExecuteTime": {
     "end_time": "2017-07-15T21:49:23.713136Z",
     "start_time": "2017-07-15T21:49:23.707137Z"
    },
    "collapsed": true
   },
   "outputs": [],
   "source": [
    "bytes(\"PASS \" + PASS + \"\\r\\n\")"
   ]
  },
  {
   "cell_type": "code",
   "execution_count": null,
   "metadata": {
    "ExecuteTime": {
     "end_time": "2017-07-15T22:28:36.361422Z",
     "start_time": "2017-07-15T22:28:36.359155Z"
    },
    "collapsed": true
   },
   "outputs": [],
   "source": [
    "incoming_message = s.recv(1024)"
   ]
  },
  {
   "cell_type": "code",
   "execution_count": null,
   "metadata": {
    "ExecuteTime": {
     "end_time": "2017-07-15T22:28:40.290076Z",
     "start_time": "2017-07-15T22:28:40.286877Z"
    },
    "collapsed": true
   },
   "outputs": [],
   "source": [
    "incoming_message"
   ]
  },
  {
   "cell_type": "code",
   "execution_count": null,
   "metadata": {
    "ExecuteTime": {
     "end_time": "2017-07-15T22:30:28.744943Z",
     "start_time": "2017-07-15T22:30:28.742591Z"
    },
    "collapsed": true
   },
   "outputs": [],
   "source": [
    "incoming_message2 = s.recv(1024)"
   ]
  },
  {
   "cell_type": "code",
   "execution_count": null,
   "metadata": {
    "ExecuteTime": {
     "end_time": "2017-07-15T22:30:31.433646Z",
     "start_time": "2017-07-15T22:30:31.429920Z"
    },
    "collapsed": true
   },
   "outputs": [],
   "source": [
    "incoming_message2"
   ]
  },
  {
   "cell_type": "code",
   "execution_count": null,
   "metadata": {
    "ExecuteTime": {
     "end_time": "2017-07-15T22:36:19.952449Z",
     "start_time": "2017-07-15T22:36:19.950150Z"
    },
    "collapsed": true
   },
   "outputs": [],
   "source": [
    "incoming_message3 = s.recv(1024)"
   ]
  },
  {
   "cell_type": "code",
   "execution_count": null,
   "metadata": {
    "ExecuteTime": {
     "end_time": "2017-07-15T22:36:22.785600Z",
     "start_time": "2017-07-15T22:36:22.782221Z"
    },
    "collapsed": true
   },
   "outputs": [],
   "source": [
    "incoming_message3"
   ]
  },
  {
   "cell_type": "code",
   "execution_count": null,
   "metadata": {
    "ExecuteTime": {
     "end_time": "2017-07-15T22:36:51.264797Z",
     "start_time": "2017-07-15T22:36:51.260843Z"
    },
    "collapsed": true
   },
   "outputs": [],
   "source": [
    "income = []\n",
    "income.append(s.recv(1024))\n",
    "income[-1]"
   ]
  },
  {
   "cell_type": "code",
   "execution_count": null,
   "metadata": {
    "collapsed": true
   },
   "outputs": [],
   "source": [
    ""
   ]
  }
 ],
 "metadata": {
  "kernelspec": {
   "display_name": "Python 2",
   "language": "python",
   "name": "python2"
  },
  "language_info": {
   "codemirror_mode": {
    "name": "ipython",
    "version": 2.0
   },
   "file_extension": ".py",
   "mimetype": "text/x-python",
   "name": "python",
   "nbconvert_exporter": "python",
   "pygments_lexer": "ipython2",
   "version": "2.7.13"
  }
 },
 "nbformat": 4,
 "nbformat_minor": 0
}