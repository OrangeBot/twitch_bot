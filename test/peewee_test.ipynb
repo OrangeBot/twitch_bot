{
 "cells": [
  {
   "cell_type": "code",
   "execution_count": 1,
   "metadata": {
    "ExecuteTime": {
     "end_time": "2017-07-24T20:27:02.965639Z",
     "start_time": "2017-07-24T20:27:02.958742Z"
    },
    "collapsed": true
   },
   "outputs": [],
   "source": [
    "import settings\n",
    "class Namespace(object):\n",
    "    def __init__(self, **kwargs):\n",
    "        self.__dict__.update(kwargs)\n",
    "    def __repr__(self):\n",
    "        return self.__dict__\n",
    "connection_settings = Namespace(\n",
    "    HOST=\"irc.twitch.tv\",\n",
    "    PORT=6667,\n",
    "    PASS=settings.PASS, # generate at https://twitchapps.com/tmi/\n",
    "    # the bot will connect as the user whose account is provided\n",
    "    NICK=settings.NICKNAME, \n",
    "    #your username - you connect as twitch user, \n",
    "    # so 1 twitch account - 1 bot. Bot nickname will be = username\n",
    "    #don't know if you can set other nickname or use 1 account for yourself and bot, for example\n",
    "    STREAM = settings.CHANNEL\n",
    "    # channel where to connect to\n",
    ")"
   ]
  },
  {
   "cell_type": "code",
   "execution_count": null,
   "metadata": {
    "collapsed": true
   },
   "outputs": [],
   "source": [
    "database = SqliteDatabase(DATABASE)\n",
    "\n",
    "# model definitions -- the standard \"pattern\" is to define a base model class\n",
    "# that specifies which database to use.  then, any subclasses will automatically\n",
    "# use the correct storage.\n",
    "class BaseModel(Model):\n",
    "    class Meta:\n",
    "        database = database\n",
    "\n",
    "# the user model specifies its fields (or columns) declaratively, like django\n",
    "class User(BaseModel):\n",
    "    username = CharField(unique=True)\n",
    "    password = CharField()\n",
    "    email = CharField()\n",
    "    join_date = DateTimeField()\n",
    "\n",
    "    class Meta:\n",
    "        order_by = ('username',)\n",
    "\n",
    "# this model contains two foreign keys to user -- it essentially allows us to\n",
    "# model a \"many-to-many\" relationship between users.  by querying and joining\n",
    "# on different columns we can expose who a user is \"related to\" and who is\n",
    "# \"related to\" a given user\n",
    "class Relationship(BaseModel):\n",
    "    from_user = ForeignKeyField(User, related_name='relationships')\n",
    "    to_user = ForeignKeyField(User, related_name='related_to')\n",
    "\n",
    "    class Meta:\n",
    "        indexes = (\n",
    "            # Specify a unique multi-column index on from/to-user.\n",
    "            (('from_user', 'to_user'), True),\n",
    "        )\n",
    "\n",
    "# a dead simple one-to-many relationship: one user has 0..n messages, exposed by\n",
    "# the foreign key.  because we didn't specify, a users messages will be accessible\n",
    "# as a special attribute, User.message_set\n",
    "class Message(BaseModel):\n",
    "    user = ForeignKeyField(User)\n",
    "    content = TextField()\n",
    "    pub_date = DateTimeField()\n",
    "\n",
    "    class Meta:\n",
    "        order_by = ('-pub_date',)"
   ]
  },
  {
   "cell_type": "code",
   "execution_count": 2,
   "metadata": {
    "ExecuteTime": {
     "end_time": "2017-07-24T20:47:44.587197Z",
     "start_time": "2017-07-24T20:47:44.565111Z"
    },
    "collapsed": true
   },
   "outputs": [],
   "source": [
    "from peewee import SqliteDatabase, Model, CharField, DateTimeField\n",
    "import os"
   ]
  },
  {
   "cell_type": "code",
   "execution_count": 7,
   "metadata": {
    "ExecuteTime": {
     "end_time": "2017-07-24T20:48:01.817307Z",
     "start_time": "2017-07-24T20:48:01.813093Z"
    }
   },
   "outputs": [
    {
     "data": {
      "text/plain": [
       "['.ipynb_checkpoints',\n",
       " 'database',\n",
       " 'First_attempt.ipynb',\n",
       " 'orm_test.ipynb',\n",
       " 'peewee.db',\n",
       " 'peewee_test.ipynb',\n",
       " 'settings.py',\n",
       " 'settings.pyc',\n",
       " 'sqlalchemy_test.ipynb',\n",
       " 'test.sqlite',\n",
       " 'test_bot.ipynb',\n",
       " 'test_connecting_to_twitch.ipynb',\n",
       " 'test_peewee_db_1.sqlite',\n",
       " 'test_peewee_db_2.sqlite',\n",
       " 'test_peewee_db_3.sqlite',\n",
       " '__init__.py']"
      ]
     },
     "execution_count": 7,
     "metadata": {},
     "output_type": "execute_result"
    }
   ],
   "source": [
    "# create database\n",
    "DATABASE = './test_peewee_db_3.sqlite'\n",
    "database = SqliteDatabase(DATABASE)\n",
    "os.listdir('./')"
   ]
  },
  {
   "cell_type": "code",
   "execution_count": 4,
   "metadata": {
    "ExecuteTime": {
     "end_time": "2017-07-24T20:47:49.306807Z",
     "start_time": "2017-07-24T20:47:49.301404Z"
    },
    "collapsed": true
   },
   "outputs": [],
   "source": [
    "# create field\n",
    "import datetime\n",
    "class Test(Model):\n",
    "    ts = DateTimeField()\n",
    "    \n",
    "    def __init__(self, ts=None):\n",
    "        ts = ts or datetime.datetime.now() \n",
    "        super(Test, self).__init__(ts=ts)\n",
    "        \n",
    "        \n",
    "    @classmethod\n",
    "    def bind(cls, database):\n",
    "        class Meta:\n",
    "            database = database\n",
    "        cls.Meta = Meta\n",
    "    \n",
    "\n"
   ]
  },
  {
   "cell_type": "code",
   "execution_count": null,
   "metadata": {
    "collapsed": true
   },
   "outputs": [],
   "source": []
  },
  {
   "cell_type": "code",
   "execution_count": 5,
   "metadata": {
    "ExecuteTime": {
     "end_time": "2017-07-24T20:47:52.056050Z",
     "start_time": "2017-07-24T20:47:52.052799Z"
    },
    "collapsed": true
   },
   "outputs": [],
   "source": [
    "def init_bot_database(database, fields):\n",
    "    for field in fields:\n",
    "        field.bind(database)\n",
    "    database.connect()\n",
    "    database.create_tables(fields)\n"
   ]
  },
  {
   "cell_type": "code",
   "execution_count": null,
   "metadata": {
    "collapsed": true
   },
   "outputs": [],
   "source": [
    "try:\n",
    "    with database.transaction():\n",
    "        # Attempt to create the user. If the username is taken, due to the\n",
    "        # unique constraint, the database will raise an IntegrityError.\n",
    "        user = User.create(\n",
    "            username=request.form['username'],\n",
    "            password=md5(request.form['password']).hexdigest(),\n",
    "            email=request.form['email'],\n",
    "            join_date=datetime.datetime.now()\n",
    "        )\n",
    "\n",
    "    # mark the user as being 'authenticated' by setting the session vars\n",
    "    auth_user(user)\n",
    "    return redirect(url_for('homepage'))\n",
    "\n",
    "except IntegrityError:\n",
    "    flash('That username is already taken')"
   ]
  },
  {
   "cell_type": "code",
   "execution_count": 30,
   "metadata": {
    "ExecuteTime": {
     "end_time": "2017-07-24T21:18:13.767478Z",
     "start_time": "2017-07-24T21:18:13.761763Z"
    }
   },
   "outputs": [
    {
     "data": {
      "text/plain": [
       "1"
      ]
     },
     "execution_count": 30,
     "metadata": {},
     "output_type": "execute_result"
    }
   ],
   "source": [
    "t.save()"
   ]
  },
  {
   "cell_type": "code",
   "execution_count": 19,
   "metadata": {
    "ExecuteTime": {
     "end_time": "2017-07-24T21:11:56.222115Z",
     "start_time": "2017-07-24T21:11:56.219551Z"
    }
   },
   "outputs": [],
   "source": [
    "# init_bot_database(database, [Test])"
   ]
  },
  {
   "cell_type": "code",
   "execution_count": 33,
   "metadata": {
    "ExecuteTime": {
     "end_time": "2017-07-24T21:18:17.988202Z",
     "start_time": "2017-07-24T21:18:17.985007Z"
    }
   },
   "outputs": [
    {
     "data": {
      "text/plain": [
       "datetime.datetime(2017, 7, 24, 23, 58, 50, 445095)"
      ]
     },
     "execution_count": 33,
     "metadata": {},
     "output_type": "execute_result"
    }
   ],
   "source": [
    "t.ts"
   ]
  },
  {
   "cell_type": "code",
   "execution_count": 34,
   "metadata": {
    "ExecuteTime": {
     "end_time": "2017-07-24T21:18:19.358435Z",
     "start_time": "2017-07-24T21:18:19.354766Z"
    }
   },
   "outputs": [
    {
     "data": {
      "text/plain": [
       "1"
      ]
     },
     "execution_count": 34,
     "metadata": {},
     "output_type": "execute_result"
    }
   ],
   "source": [
    "q = Test.select()\n",
    "q.count()"
   ]
  },
  {
   "cell_type": "code",
   "execution_count": 44,
   "metadata": {
    "ExecuteTime": {
     "end_time": "2017-07-24T21:22:02.500332Z",
     "start_time": "2017-07-24T21:22:02.497054Z"
    }
   },
   "outputs": [
    {
     "data": {
      "text/plain": [
       "<class '__main__.Test'> SELECT \"t1\".\"id\", \"t1\".\"ts\" FROM \"test\" AS t1 WHERE ? [True]"
      ]
     },
     "execution_count": 44,
     "metadata": {},
     "output_type": "execute_result"
    }
   ],
   "source": [
    "q.where(True)"
   ]
  },
  {
   "cell_type": "code",
   "execution_count": 43,
   "metadata": {
    "ExecuteTime": {
     "end_time": "2017-07-24T21:21:48.604582Z",
     "start_time": "2017-07-24T21:21:48.585617Z"
    }
   },
   "outputs": [
    {
     "ename": "TypeError",
     "evalue": "__init__() got an unexpected keyword argument 'id'",
     "output_type": "error",
     "traceback": [
      "\u001b[0;31m---------------------------------------------------------------------------\u001b[0m",
      "\u001b[0;31mTypeError\u001b[0m                                 Traceback (most recent call last)",
      "\u001b[0;32m<ipython-input-43-9f0b72f9d5fb>\u001b[0m in \u001b[0;36m<module>\u001b[0;34m()\u001b[0m\n\u001b[0;32m----> 1\u001b[0;31m \u001b[0;32mfor\u001b[0m \u001b[0mt\u001b[0m \u001b[0;32min\u001b[0m \u001b[0mq\u001b[0m\u001b[0;34m.\u001b[0m\u001b[0mwhere\u001b[0m\u001b[0;34m(\u001b[0m\u001b[0mTrue\u001b[0m\u001b[0;34m)\u001b[0m\u001b[0;34m:\u001b[0m\u001b[0;34m\u001b[0m\u001b[0m\n\u001b[0m\u001b[1;32m      2\u001b[0m     \u001b[0;32mprint\u001b[0m \u001b[0mt\u001b[0m\u001b[0;34m.\u001b[0m\u001b[0mts\u001b[0m\u001b[0;34m\u001b[0m\u001b[0m\n",
      "\u001b[0;32mplayhouse/_speedups.pyx\u001b[0m in \u001b[0;36mplayhouse._speedups._ResultIterator.__next__ (playhouse/_speedups.c:2857)\u001b[0;34m()\u001b[0m\n",
      "\u001b[0;32mplayhouse/_speedups.pyx\u001b[0m in \u001b[0;36mplayhouse._speedups._QueryResultWrapper.iterate (playhouse/_speedups.c:4792)\u001b[0;34m()\u001b[0m\n",
      "\u001b[0;32mplayhouse/_speedups.pyx\u001b[0m in \u001b[0;36mplayhouse._speedups._ModelQueryResultWrapper.process_row (playhouse/_speedups.c:6166)\u001b[0;34m()\u001b[0m\n",
      "\u001b[0;31mTypeError\u001b[0m: __init__() got an unexpected keyword argument 'id'"
     ]
    }
   ],
   "source": [
    "for t in q.where(True):\n",
    "    print t.ts"
   ]
  },
  {
   "cell_type": "code",
   "execution_count": 41,
   "metadata": {
    "ExecuteTime": {
     "end_time": "2017-07-24T21:19:44.825745Z",
     "start_time": "2017-07-24T21:19:44.817890Z"
    }
   },
   "outputs": [
    {
     "ename": "TypeError",
     "evalue": "union_all() takes exactly 2 arguments (1 given)",
     "output_type": "error",
     "traceback": [
      "\u001b[0;31m---------------------------------------------------------------------------\u001b[0m",
      "\u001b[0;31mTypeError\u001b[0m                                 Traceback (most recent call last)",
      "\u001b[0;32m<ipython-input-41-1147e92c8739>\u001b[0m in \u001b[0;36m<module>\u001b[0;34m()\u001b[0m\n\u001b[0;32m----> 1\u001b[0;31m \u001b[0mq\u001b[0m\u001b[0;34m.\u001b[0m\u001b[0munion_all\u001b[0m\u001b[0;34m(\u001b[0m\u001b[0;34m)\u001b[0m\u001b[0;34m\u001b[0m\u001b[0m\n\u001b[0m\u001b[1;32m      2\u001b[0m \u001b[0;31m# q.count()\u001b[0m\u001b[0;34m\u001b[0m\u001b[0;34m\u001b[0m\u001b[0m\n",
      "\u001b[0;31mTypeError\u001b[0m: union_all() takes exactly 2 arguments (1 given)"
     ]
    }
   ],
   "source": [
    "q.union_all()\n",
    "# q.count()"
   ]
  },
  {
   "cell_type": "code",
   "execution_count": 36,
   "metadata": {
    "ExecuteTime": {
     "end_time": "2017-07-24T21:18:44.725156Z",
     "start_time": "2017-07-24T21:18:44.722339Z"
    }
   },
   "outputs": [],
   "source": [
    "for t in list(q):\n",
    "    print type(t)"
   ]
  },
  {
   "cell_type": "code",
   "execution_count": 14,
   "metadata": {
    "ExecuteTime": {
     "end_time": "2017-07-24T20:59:14.357176Z",
     "start_time": "2017-07-24T20:59:14.347503Z"
    }
   },
   "outputs": [
    {
     "ename": "AttributeError",
     "evalue": "'SqliteDatabase' object has no attribute 'get'",
     "output_type": "error",
     "traceback": [
      "\u001b[0;31m---------------------------------------------------------------------------\u001b[0m",
      "\u001b[0;31mAttributeError\u001b[0m                            Traceback (most recent call last)",
      "\u001b[0;32m<ipython-input-14-3f4470c3b216>\u001b[0m in \u001b[0;36m<module>\u001b[0;34m()\u001b[0m\n\u001b[0;32m----> 1\u001b[0;31m \u001b[0mdatabase\u001b[0m\u001b[0;34m.\u001b[0m\u001b[0mget\u001b[0m\u001b[0;34m(\u001b[0m\u001b[0mTest\u001b[0m\u001b[0;34m)\u001b[0m\u001b[0;34m\u001b[0m\u001b[0m\n\u001b[0m",
      "\u001b[0;31mAttributeError\u001b[0m: 'SqliteDatabase' object has no attribute 'get'"
     ]
    }
   ],
   "source": [
    "database.get(Test)"
   ]
  },
  {
   "cell_type": "code",
   "execution_count": 4,
   "metadata": {
    "ExecuteTime": {
     "end_time": "2017-07-21T20:44:14.768790Z",
     "start_time": "2017-07-21T20:44:14.765488Z"
    },
    "collapsed": true
   },
   "outputs": [],
   "source": [
    "from peewee import Model, TextField\n",
    "class T(Model):\n",
    "    t = TextField()\n",
    "    pass"
   ]
  },
  {
   "cell_type": "code",
   "execution_count": 5,
   "metadata": {
    "ExecuteTime": {
     "end_time": "2017-07-21T20:45:34.287329Z",
     "start_time": "2017-07-21T20:45:34.284869Z"
    },
    "collapsed": true
   },
   "outputs": [],
   "source": [
    "from peewee import *"
   ]
  },
  {
   "cell_type": "code",
   "execution_count": 8,
   "metadata": {
    "ExecuteTime": {
     "end_time": "2017-07-21T20:46:46.343883Z",
     "start_time": "2017-07-21T20:46:46.341548Z"
    },
    "collapsed": true
   },
   "outputs": [],
   "source": [
    "# database = SqliteDatabase(DATABASE)\n",
    "db = SqliteDatabase('test_peewee.sqlite')"
   ]
  },
  {
   "cell_type": "code",
   "execution_count": 10,
   "metadata": {
    "ExecuteTime": {
     "end_time": "2017-07-21T20:48:12.437985Z",
     "start_time": "2017-07-21T20:48:12.435374Z"
    },
    "collapsed": true
   },
   "outputs": [],
   "source": [
    "class Meta:\n",
    "    database = db\n",
    "T.Meta = Meta"
   ]
  },
  {
   "cell_type": "code",
   "execution_count": null,
   "metadata": {
    "collapsed": true
   },
   "outputs": [],
   "source": []
  }
 ],
 "metadata": {
  "kernelspec": {
   "display_name": "Python 2",
   "language": "python",
   "name": "python2"
  },
  "language_info": {
   "codemirror_mode": {
    "name": "ipython",
    "version": 2
   },
   "file_extension": ".py",
   "mimetype": "text/x-python",
   "name": "python",
   "nbconvert_exporter": "python",
   "pygments_lexer": "ipython2",
   "version": "2.7.13"
  }
 },
 "nbformat": 4,
 "nbformat_minor": 1
}
